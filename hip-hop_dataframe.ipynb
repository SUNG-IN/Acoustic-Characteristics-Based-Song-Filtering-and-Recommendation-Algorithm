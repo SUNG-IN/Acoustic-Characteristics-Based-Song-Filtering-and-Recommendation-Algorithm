{
 "cells": [
  {
   "cell_type": "code",
   "execution_count": 1,
   "id": "f1db2cdb",
   "metadata": {},
   "outputs": [
    {
     "name": "stderr",
     "output_type": "stream",
     "text": [
      "/usr/local/lib/python3.6/dist-packages/numba/core/errors.py:154: UserWarning: Insufficiently recent colorama version found. Numba requires colorama >= 0.3.9\n",
      "  warnings.warn(msg)\n"
     ]
    }
   ],
   "source": [
    "#sudo apt-get install python3-pandas\n",
    "import pandas as pd\n",
    "import numpy as np\n",
    "import re\n",
    "import os\n",
    "import librosa\n",
    "import IPython.display as ipd\n",
    "import matplotlib.pyplot as plt\n",
    "import librosa.display\n",
    "\n",
    "#음원 중 특정 부분만 잘라내는 함수 #사용x\n",
    "def split_wav(data, sample_rate, start, end):\n",
    "    start *= sample_rate\n",
    "    end *= sample_rate\n",
    "    return data[start:end]\n"
   ]
  },
  {
   "cell_type": "code",
   "execution_count": 2,
   "id": "20eb72d7",
   "metadata": {},
   "outputs": [],
   "source": [
    "path = '/home/ubuntu/DA'\n",
    "\n",
    "file_list = os.listdir(path)\n",
    "file_list\n",
    "\n",
    "os.chdir('/home/ubuntu/DA/dataframe')"
   ]
  },
  {
   "cell_type": "code",
   "execution_count": 3,
   "id": "b5603f28",
   "metadata": {},
   "outputs": [
    {
     "name": "stdout",
     "output_type": "stream",
     "text": [
      "                                                song    genre\n",
      "0  창모 (CHANGMO), 해쉬스완 (Hash Swan), 애쉬 아일랜드 (ASH I...  hip-hop\n",
      "1  프라이머리 - 독 (Feat. E Sens of 슈프림팀) 가사-QuC_EqHjA7...  hip-hop\n",
      "2  슈퍼비 (SUPERBEE) - +82 Bars [Rap Legend]-1-sg3fu...  hip-hop\n",
      "3  창모 (CHANGMO) - 아름다워 (Beautiful) (OFFICIAL AUDI...  hip-hop\n",
      "4  창모 (CHANGMO) - METEOR [Official Music Video]-l...  hip-hop\n",
      "5                        BTS (Suga) - First Love.mp3  hip-hop\n"
     ]
    }
   ],
   "source": [
    "#빈 데이터프레임 생성\n",
    "hiphop_df = pd.DataFrame(columns = ['song', 'genre'])\n",
    "hiphop_df\n",
    "\n",
    "#음원 데이터프레임 생성\n",
    "hiphop_file_list = os.listdir(path+ '/' + 'hip-hop')\n",
    "\n",
    "for i in range(len(hiphop_file_list)):\n",
    "    hiphop_df = hiphop_df.append(pd.DataFrame([[hiphop_file_list[i], 'hip-hop']],\n",
    "                                              columns = ['song', 'genre']),\n",
    "                                 ignore_index = True)\n",
    "        \n",
    "print(hiphop_df)    "
   ]
  },
  {
   "cell_type": "code",
   "execution_count": 4,
   "id": "60dde988",
   "metadata": {
    "scrolled": false
   },
   "outputs": [
    {
     "name": "stdout",
     "output_type": "stream",
     "text": [
      "                                                song    genre\n",
      "0  창모 (CHANGMO), 해쉬스완 (Hash Swan), 애쉬 아일랜드 (ASH I...  hip-hop\n",
      "1  프라이머리 - 독 (Feat. E Sens of 슈프림팀) 가사-QuC_EqHjA7...  hip-hop\n",
      "2  슈퍼비 (SUPERBEE) - +82 Bars [Rap Legend]-1-sg3fu...  hip-hop\n",
      "3  창모 (CHANGMO) - 아름다워 (Beautiful) (OFFICIAL AUDI...  hip-hop\n",
      "4  창모 (CHANGMO) - METEOR [Official Music Video]-l...  hip-hop\n",
      "5                        BTS (Suga) - First Love.mp3  hip-hop\n"
     ]
    }
   ],
   "source": [
    "#데이터프레임 갱신\n",
    "for i in range(0,len(hiphop_file_list)):\n",
    "        if hiphop_df.iloc[i,0] in hiphop_file_list == True:\n",
    "            continue\n",
    "        else: hiphop_df.append(pd.DataFrame([[hiphop_file_list[i], 'hip-hop']],\n",
    "                                           columns = ['song', 'genre']),\n",
    "                              ignore_index = True)\n",
    "print(hiphop_df)        "
   ]
  },
  {
   "cell_type": "code",
   "execution_count": 5,
   "id": "c3a8ec38",
   "metadata": {
    "scrolled": false
   },
   "outputs": [
    {
     "name": "stdout",
     "output_type": "stream",
     "text": [
      "<class 'pandas.core.frame.DataFrame'>\n",
      "RangeIndex: 6 entries, 0 to 5\n",
      "Data columns (total 2 columns):\n",
      "song     6 non-null object\n",
      "genre    6 non-null object\n",
      "dtypes: object(2)\n",
      "memory usage: 176.0+ bytes\n"
     ]
    }
   ],
   "source": [
    "hiphop_df.info()"
   ]
  },
  {
   "cell_type": "code",
   "execution_count": 6,
   "id": "212e0c85",
   "metadata": {
    "scrolled": true
   },
   "outputs": [
    {
     "name": "stdout",
     "output_type": "stream",
     "text": [
      "0    창모 (CHANGMO), 해쉬스완 (Hash Swan), 애쉬 아일랜드 (ASH I...\n",
      "1                                               프라이머리 \n",
      "2                                      슈퍼비 (SUPERBEE) \n",
      "3                                        창모 (CHANGMO) \n",
      "4                                        창모 (CHANGMO) \n",
      "5                                          BTS (Suga) \n",
      "Name: singer, dtype: object\n",
      "--------------------------------------------\n",
      "0                         BAND\n",
      "1    독 (Feat. E Sens of 슈프림팀) \n",
      "2                    +82 Bars \n",
      "3                       아름다워  \n",
      "4                      METEOR \n",
      "5                   First Love\n",
      "Name: title, dtype: object\n"
     ]
    }
   ],
   "source": [
    "#title, genre 컬럼 생성\n",
    "for i in range(len(hiphop_df)):\n",
    "    hiphop_df['song'].iloc[i] = hiphop_df['song'].iloc[i].replace(' _ ', ' - ', 1)\n",
    "    hiphop_df['song'].iloc[i] = hiphop_df['song'].iloc[i].replace('- ', ' - ', 1)\n",
    "    hiphop_df['song'].iloc[i] = hiphop_df['song'].iloc[i].replace('[MV]', '', 1)\n",
    "    \n",
    "hiphop_df['singer'] = hiphop_df['song'].str.split(' - ').str[0]\n",
    "print(hiphop_df['singer'], end = '\\n--------------------------------------------\\n')\n",
    "\n",
    "hiphop_df['title'] = hiphop_df['song'].str.split(' - ').str[1]\n",
    "\n",
    "for i in range(len(hiphop_df)):\n",
    "    if hiphop_df['title'].str.contains('Feat|feat|Prod')[i] == True:\n",
    "        continue\n",
    "    else:\n",
    "        hiphop_df['title'].iloc[i] = re.sub(r'\\([^)]*\\)', '', hiphop_df['title'].iloc[i])\n",
    "\n",
    "hiphop_df['title'] = hiphop_df['title'].str.split('.mp3').str[0] \n",
    "hiphop_df['title'] = hiphop_df['title'].str.split('-').str[0]\n",
    "hiphop_df['title'] = hiphop_df['title'].str.split('가사').str[0]\n",
    "hiphop_df['title'] = hiphop_df['title'].str.split('[').str[0] \n",
    "hiphop_df['title'] = hiphop_df['title'].str.split('Official').str[0] \n",
    "\n",
    "print(hiphop_df['title'])"
   ]
  },
  {
   "cell_type": "code",
   "execution_count": 7,
   "id": "1ce5bd69",
   "metadata": {},
   "outputs": [
    {
     "name": "stderr",
     "output_type": "stream",
     "text": [
      "/usr/local/lib/python3.6/dist-packages/librosa/core/audio.py:162: UserWarning: PySoundFile failed. Trying audioread instead.\n",
      "  warnings.warn(\"PySoundFile failed. Trying audioread instead.\")\n",
      "/usr/local/lib/python3.6/dist-packages/librosa/core/audio.py:162: UserWarning: PySoundFile failed. Trying audioread instead.\n",
      "  warnings.warn(\"PySoundFile failed. Trying audioread instead.\")\n",
      "/usr/local/lib/python3.6/dist-packages/librosa/core/audio.py:162: UserWarning: PySoundFile failed. Trying audioread instead.\n",
      "  warnings.warn(\"PySoundFile failed. Trying audioread instead.\")\n",
      "/usr/local/lib/python3.6/dist-packages/librosa/core/audio.py:162: UserWarning: PySoundFile failed. Trying audioread instead.\n",
      "  warnings.warn(\"PySoundFile failed. Trying audioread instead.\")\n",
      "/usr/local/lib/python3.6/dist-packages/librosa/core/audio.py:162: UserWarning: PySoundFile failed. Trying audioread instead.\n",
      "  warnings.warn(\"PySoundFile failed. Trying audioread instead.\")\n",
      "/usr/local/lib/python3.6/dist-packages/librosa/core/audio.py:162: UserWarning: PySoundFile failed. Trying audioread instead.\n",
      "  warnings.warn(\"PySoundFile failed. Trying audioread instead.\")\n"
     ]
    }
   ],
   "source": [
    "#BPM 추출\n",
    "bpm = []\n",
    "\n",
    "for i in range(len(hiphop_file_list)):\n",
    "    y, sr = librosa.load('/home/ubuntu/DA/hip-hop/'+ hiphop_file_list[i])\n",
    "    y = split_wav(y, sr, 0, 60)\n",
    "    tempo, _ = librosa.beat.beat_track(y, sr)\n",
    "    bpm.append(tempo)\n",
    "    \n",
    "hiphop_df['tempo1'] = pd.DataFrame(bpm)"
   ]
  },
  {
   "cell_type": "code",
   "execution_count": 8,
   "id": "3df70936",
   "metadata": {
    "scrolled": true
   },
   "outputs": [
    {
     "name": "stderr",
     "output_type": "stream",
     "text": [
      "/usr/local/lib/python3.6/dist-packages/librosa/core/audio.py:162: UserWarning: PySoundFile failed. Trying audioread instead.\n",
      "  warnings.warn(\"PySoundFile failed. Trying audioread instead.\")\n",
      "/usr/local/lib/python3.6/dist-packages/librosa/core/audio.py:162: UserWarning: PySoundFile failed. Trying audioread instead.\n",
      "  warnings.warn(\"PySoundFile failed. Trying audioread instead.\")\n",
      "/usr/local/lib/python3.6/dist-packages/librosa/core/audio.py:162: UserWarning: PySoundFile failed. Trying audioread instead.\n",
      "  warnings.warn(\"PySoundFile failed. Trying audioread instead.\")\n",
      "/usr/local/lib/python3.6/dist-packages/librosa/core/audio.py:162: UserWarning: PySoundFile failed. Trying audioread instead.\n",
      "  warnings.warn(\"PySoundFile failed. Trying audioread instead.\")\n",
      "/usr/local/lib/python3.6/dist-packages/librosa/core/audio.py:162: UserWarning: PySoundFile failed. Trying audioread instead.\n",
      "  warnings.warn(\"PySoundFile failed. Trying audioread instead.\")\n",
      "/usr/local/lib/python3.6/dist-packages/librosa/core/audio.py:162: UserWarning: PySoundFile failed. Trying audioread instead.\n",
      "  warnings.warn(\"PySoundFile failed. Trying audioread instead.\")\n"
     ]
    }
   ],
   "source": [
    "#BPM 추출\n",
    "bpm = []\n",
    "\n",
    "for i in range(len(hiphop_file_list)):\n",
    "    y, sr = librosa.load('/home/ubuntu/DA/hip-hop/'+ hiphop_file_list[i])\n",
    "    y = split_wav(y, sr, 60, 120)\n",
    "    tempo, _ = librosa.beat.beat_track(y, sr)\n",
    "    bpm.append(tempo)\n",
    "    \n",
    "hiphop_df['tempo2'] = pd.DataFrame(bpm)"
   ]
  },
  {
   "cell_type": "code",
   "execution_count": 9,
   "id": "98cd8594",
   "metadata": {},
   "outputs": [],
   "source": [
    "hiphop_df.to_csv('hiphop_df_semi.csv')"
   ]
  },
  {
   "cell_type": "code",
   "execution_count": 10,
   "id": "fef3db43",
   "metadata": {},
   "outputs": [
    {
     "name": "stderr",
     "output_type": "stream",
     "text": [
      "/usr/local/lib/python3.6/dist-packages/librosa/core/audio.py:162: UserWarning: PySoundFile failed. Trying audioread instead.\n",
      "  warnings.warn(\"PySoundFile failed. Trying audioread instead.\")\n",
      "/usr/local/lib/python3.6/dist-packages/librosa/core/audio.py:162: UserWarning: PySoundFile failed. Trying audioread instead.\n",
      "  warnings.warn(\"PySoundFile failed. Trying audioread instead.\")\n",
      "/usr/local/lib/python3.6/dist-packages/librosa/core/audio.py:162: UserWarning: PySoundFile failed. Trying audioread instead.\n",
      "  warnings.warn(\"PySoundFile failed. Trying audioread instead.\")\n",
      "/usr/local/lib/python3.6/dist-packages/librosa/core/audio.py:162: UserWarning: PySoundFile failed. Trying audioread instead.\n",
      "  warnings.warn(\"PySoundFile failed. Trying audioread instead.\")\n",
      "/usr/local/lib/python3.6/dist-packages/librosa/core/audio.py:162: UserWarning: PySoundFile failed. Trying audioread instead.\n",
      "  warnings.warn(\"PySoundFile failed. Trying audioread instead.\")\n",
      "/usr/local/lib/python3.6/dist-packages/librosa/core/audio.py:162: UserWarning: PySoundFile failed. Trying audioread instead.\n",
      "  warnings.warn(\"PySoundFile failed. Trying audioread instead.\")\n"
     ]
    }
   ],
   "source": [
    "#FT (푸리에 변환)\n",
    "#시간 영역 데이터를 주파수 영역으로 변경\n",
    "#y축: 주파수(로그 스케일)\n",
    "#푸리에 변환을 한 후 곡 별산술통계량을 내어보자.\n",
    "\n",
    "mean_ft = []\n",
    "var_ft = []\n",
    "\n",
    "for i in range(len(hiphop_file_list)):\n",
    "    y, sr = librosa.load('/home/ubuntu/DA/hip-hop/'+ hiphop_file_list[i])\n",
    "    y = split_wav(y, sr, 0, 60)\n",
    "    D = np.abs(librosa.stft(y, n_fft = 2048, hop_length = 512))\n",
    "    mean_D = np.mean(D)\n",
    "    mean_ft.append(mean_D)\n",
    "    var_D = np.var(D)\n",
    "    var_ft.append(var_D)\n",
    "\n",
    "hiphop_df['mean_ft1'] = pd.DataFrame(mean_ft)\n",
    "hiphop_df['var_ft1'] = pd.DataFrame(var_ft)"
   ]
  },
  {
   "cell_type": "code",
   "execution_count": 11,
   "id": "84da3cb5",
   "metadata": {},
   "outputs": [
    {
     "name": "stderr",
     "output_type": "stream",
     "text": [
      "/usr/local/lib/python3.6/dist-packages/librosa/core/audio.py:162: UserWarning: PySoundFile failed. Trying audioread instead.\n",
      "  warnings.warn(\"PySoundFile failed. Trying audioread instead.\")\n",
      "/usr/local/lib/python3.6/dist-packages/librosa/core/audio.py:162: UserWarning: PySoundFile failed. Trying audioread instead.\n",
      "  warnings.warn(\"PySoundFile failed. Trying audioread instead.\")\n",
      "/usr/local/lib/python3.6/dist-packages/librosa/core/audio.py:162: UserWarning: PySoundFile failed. Trying audioread instead.\n",
      "  warnings.warn(\"PySoundFile failed. Trying audioread instead.\")\n",
      "/usr/local/lib/python3.6/dist-packages/librosa/core/audio.py:162: UserWarning: PySoundFile failed. Trying audioread instead.\n",
      "  warnings.warn(\"PySoundFile failed. Trying audioread instead.\")\n",
      "/usr/local/lib/python3.6/dist-packages/librosa/core/audio.py:162: UserWarning: PySoundFile failed. Trying audioread instead.\n",
      "  warnings.warn(\"PySoundFile failed. Trying audioread instead.\")\n",
      "/usr/local/lib/python3.6/dist-packages/librosa/core/audio.py:162: UserWarning: PySoundFile failed. Trying audioread instead.\n",
      "  warnings.warn(\"PySoundFile failed. Trying audioread instead.\")\n"
     ]
    }
   ],
   "source": [
    "#FT (푸리에 변환)\n",
    "#시간 영역 데이터를 주파수 영역으로 변경\n",
    "#y축: 주파수(로그 스케일)\n",
    "#푸리에 변환을 한 후 곡 별산술통계량을 내어보자.\n",
    "\n",
    "mean_ft = []\n",
    "var_ft = []\n",
    "\n",
    "for i in range(len(hiphop_file_list)):\n",
    "    y, sr = librosa.load('/home/ubuntu/DA/hip-hop/'+ hiphop_file_list[i])\n",
    "    y = split_wav(y, sr, 60, 120)\n",
    "    D = np.abs(librosa.stft(y, n_fft = 2048, hop_length = 512))\n",
    "    mean_D = np.mean(D)\n",
    "    mean_ft.append(mean_D)\n",
    "    var_D = np.var(D)\n",
    "    var_ft.append(var_D)\n",
    "\n",
    "hiphop_df['mean_ft2'] = pd.DataFrame(mean_ft)\n",
    "hiphop_df['var_ft2'] = pd.DataFrame(var_ft)"
   ]
  },
  {
   "cell_type": "code",
   "execution_count": null,
   "id": "020247cb",
   "metadata": {
    "scrolled": true
   },
   "outputs": [],
   "source": [
    "#Mel-Spectogram\n",
    "s = librosa.feature.melspectrogram(y, sr)\n",
    "\n",
    "s_DB = librosa.amplitude_to_db(s, ref = np.max)\n",
    "s_DB\n",
    "plt.figure(figsize = (16,6))\n",
    "librosa.display.specshow(s_DB, sr=sr, hop_length = 512, x_axis = 'time', y_axis = 'log')\n",
    "plt.colorbar()\n",
    "plt.show"
   ]
  },
  {
   "cell_type": "code",
   "execution_count": 12,
   "id": "b4785033",
   "metadata": {},
   "outputs": [
    {
     "name": "stderr",
     "output_type": "stream",
     "text": [
      "/usr/local/lib/python3.6/dist-packages/librosa/core/audio.py:162: UserWarning: PySoundFile failed. Trying audioread instead.\n",
      "  warnings.warn(\"PySoundFile failed. Trying audioread instead.\")\n",
      "/usr/local/lib/python3.6/dist-packages/librosa/core/audio.py:162: UserWarning: PySoundFile failed. Trying audioread instead.\n",
      "  warnings.warn(\"PySoundFile failed. Trying audioread instead.\")\n",
      "/usr/local/lib/python3.6/dist-packages/librosa/core/audio.py:162: UserWarning: PySoundFile failed. Trying audioread instead.\n",
      "  warnings.warn(\"PySoundFile failed. Trying audioread instead.\")\n",
      "/usr/local/lib/python3.6/dist-packages/librosa/core/audio.py:162: UserWarning: PySoundFile failed. Trying audioread instead.\n",
      "  warnings.warn(\"PySoundFile failed. Trying audioread instead.\")\n",
      "/usr/local/lib/python3.6/dist-packages/librosa/core/audio.py:162: UserWarning: PySoundFile failed. Trying audioread instead.\n",
      "  warnings.warn(\"PySoundFile failed. Trying audioread instead.\")\n",
      "/usr/local/lib/python3.6/dist-packages/librosa/core/audio.py:162: UserWarning: PySoundFile failed. Trying audioread instead.\n",
      "  warnings.warn(\"PySoundFile failed. Trying audioread instead.\")\n"
     ]
    }
   ],
   "source": [
    "mean_mel = []\n",
    "var_mel = []\n",
    "\n",
    "for i in range(len(hiphop_file_list)):\n",
    "    y, sr = librosa.load('/home/ubuntu/DA/hip-hop/'+ hiphop_file_list[i])\n",
    "    y = split_wav(y, sr, 0, 60)\n",
    "    s = librosa.feature.melspectrogram(y, sr)\n",
    "    s_DB = librosa.amplitude_to_db(s, ref = np.max)\n",
    "    mean_s_DB = np.mean(s_DB)\n",
    "    mean_mel.append(mean_s_DB)\n",
    "    var_s_DB = np.var(s_DB)\n",
    "    var_mel.append(var_s_DB)\n",
    "\n",
    "hiphop_df['mean_mel1'] = pd.DataFrame(mean_mel)\n",
    "hiphop_df['var_mel1'] = pd.DataFrame(var_mel)\n"
   ]
  },
  {
   "cell_type": "code",
   "execution_count": 11,
   "id": "7626c2d6",
   "metadata": {},
   "outputs": [
    {
     "name": "stderr",
     "output_type": "stream",
     "text": [
      "/usr/local/lib/python3.6/dist-packages/librosa/core/audio.py:162: UserWarning: PySoundFile failed. Trying audioread instead.\n",
      "  warnings.warn(\"PySoundFile failed. Trying audioread instead.\")\n",
      "/usr/local/lib/python3.6/dist-packages/librosa/core/audio.py:162: UserWarning: PySoundFile failed. Trying audioread instead.\n",
      "  warnings.warn(\"PySoundFile failed. Trying audioread instead.\")\n",
      "/usr/local/lib/python3.6/dist-packages/librosa/core/audio.py:162: UserWarning: PySoundFile failed. Trying audioread instead.\n",
      "  warnings.warn(\"PySoundFile failed. Trying audioread instead.\")\n",
      "/usr/local/lib/python3.6/dist-packages/librosa/core/audio.py:162: UserWarning: PySoundFile failed. Trying audioread instead.\n",
      "  warnings.warn(\"PySoundFile failed. Trying audioread instead.\")\n",
      "/usr/local/lib/python3.6/dist-packages/librosa/core/audio.py:162: UserWarning: PySoundFile failed. Trying audioread instead.\n",
      "  warnings.warn(\"PySoundFile failed. Trying audioread instead.\")\n",
      "/usr/local/lib/python3.6/dist-packages/librosa/core/audio.py:162: UserWarning: PySoundFile failed. Trying audioread instead.\n",
      "  warnings.warn(\"PySoundFile failed. Trying audioread instead.\")\n"
     ]
    }
   ],
   "source": [
    "mean_mel = []\n",
    "var_mel = []\n",
    "\n",
    "for i in range(len(hiphop_file_list)):\n",
    "    y, sr = librosa.load('/home/ubuntu/DA/hip-hop/'+ hiphop_file_list[i])\n",
    "    y = split_wav(y, sr, 60, 120)\n",
    "    s = librosa.feature.melspectrogram(y, sr)\n",
    "    s_DB = librosa.amplitude_to_db(s, ref = np.max)\n",
    "    mean_s_DB = np.mean(s_DB)\n",
    "    mean_mel.append(mean_s_DB)\n",
    "    var_s_DB = np.var(s_DB)\n",
    "    var_mel.append(var_s_DB)\n",
    "\n",
    "hiphop_df['mean_mel2'] = pd.DataFrame(mean_mel)\n",
    "hiphop_df['var_mel2'] = pd.DataFrame(var_mel)\n"
   ]
  },
  {
   "cell_type": "code",
   "execution_count": 13,
   "id": "a71acee7",
   "metadata": {},
   "outputs": [
    {
     "name": "stderr",
     "output_type": "stream",
     "text": [
      "/usr/local/lib/python3.6/dist-packages/librosa/core/audio.py:162: UserWarning: PySoundFile failed. Trying audioread instead.\n",
      "  warnings.warn(\"PySoundFile failed. Trying audioread instead.\")\n",
      "/usr/local/lib/python3.6/dist-packages/librosa/core/audio.py:162: UserWarning: PySoundFile failed. Trying audioread instead.\n",
      "  warnings.warn(\"PySoundFile failed. Trying audioread instead.\")\n",
      "/usr/local/lib/python3.6/dist-packages/librosa/core/audio.py:162: UserWarning: PySoundFile failed. Trying audioread instead.\n",
      "  warnings.warn(\"PySoundFile failed. Trying audioread instead.\")\n",
      "/usr/local/lib/python3.6/dist-packages/librosa/core/audio.py:162: UserWarning: PySoundFile failed. Trying audioread instead.\n",
      "  warnings.warn(\"PySoundFile failed. Trying audioread instead.\")\n",
      "/usr/local/lib/python3.6/dist-packages/librosa/core/audio.py:162: UserWarning: PySoundFile failed. Trying audioread instead.\n",
      "  warnings.warn(\"PySoundFile failed. Trying audioread instead.\")\n",
      "/usr/local/lib/python3.6/dist-packages/librosa/core/audio.py:162: UserWarning: PySoundFile failed. Trying audioread instead.\n",
      "  warnings.warn(\"PySoundFile failed. Trying audioread instead.\")\n"
     ]
    }
   ],
   "source": [
    "#Harmonic and Percussive components\n",
    "#Harmonics: 사람의 귀로 구분할 수 없는 특징들 (음악의 색깔)\n",
    "#음악의 색깔은 평균 추출\n",
    "#Percussives: 리듬과 감정을 나타내는 충격파\n",
    "#충격파는 min과 max를 추출\n",
    "mean_h = []\n",
    "var_h = []\n",
    "mean_p = []\n",
    "var_p = []\n",
    "for i in range(len(hiphop_file_list)):\n",
    "    y, sr = librosa.load('/home/ubuntu/DA/hip-hop/'+ hiphop_file_list[i])\n",
    "    y = split_wav(y, sr, 0, 60)\n",
    "    harm, perc = librosa.effects.hpss(y)\n",
    "    mean_h.append(np.mean(harm))\n",
    "    var_h.append(np.var(harm))\n",
    "    mean_p.append(np.mean(perc))\n",
    "    var_p.append(np.var(perc))\n",
    "\n",
    "hiphop_df['mean_harm1'] = pd.DataFrame(mean_h)\n",
    "hiphop_df['var_harm1'] = pd.DataFrame(var_h)\n",
    "hiphop_df['mean_perc1'] = pd.DataFrame(mean_p)\n",
    "hiphop_df['var_perc1'] = pd.DataFrame(var_p)\n",
    "    "
   ]
  },
  {
   "cell_type": "code",
   "execution_count": 14,
   "id": "e32d270d",
   "metadata": {},
   "outputs": [
    {
     "name": "stderr",
     "output_type": "stream",
     "text": [
      "/usr/local/lib/python3.6/dist-packages/librosa/core/audio.py:162: UserWarning: PySoundFile failed. Trying audioread instead.\n",
      "  warnings.warn(\"PySoundFile failed. Trying audioread instead.\")\n",
      "/usr/local/lib/python3.6/dist-packages/librosa/core/audio.py:162: UserWarning: PySoundFile failed. Trying audioread instead.\n",
      "  warnings.warn(\"PySoundFile failed. Trying audioread instead.\")\n",
      "/usr/local/lib/python3.6/dist-packages/librosa/core/audio.py:162: UserWarning: PySoundFile failed. Trying audioread instead.\n",
      "  warnings.warn(\"PySoundFile failed. Trying audioread instead.\")\n",
      "/usr/local/lib/python3.6/dist-packages/librosa/core/audio.py:162: UserWarning: PySoundFile failed. Trying audioread instead.\n",
      "  warnings.warn(\"PySoundFile failed. Trying audioread instead.\")\n",
      "/usr/local/lib/python3.6/dist-packages/librosa/core/audio.py:162: UserWarning: PySoundFile failed. Trying audioread instead.\n",
      "  warnings.warn(\"PySoundFile failed. Trying audioread instead.\")\n",
      "/usr/local/lib/python3.6/dist-packages/librosa/core/audio.py:162: UserWarning: PySoundFile failed. Trying audioread instead.\n",
      "  warnings.warn(\"PySoundFile failed. Trying audioread instead.\")\n"
     ]
    }
   ],
   "source": [
    "#Harmonic and Percussive components\n",
    "#Harmonics: 사람의 귀로 구분할 수 없는 특징들 (음악의 색깔)\n",
    "#음악의 색깔은 평균 추출\n",
    "#Percussives: 리듬과 감정을 나타내는 충격파\n",
    "#충격파는 min과 max를 추출\n",
    "mean_h = []\n",
    "var_h = []\n",
    "mean_p = []\n",
    "var_p = []\n",
    "for i in range(len(hiphop_file_list)):\n",
    "    y, sr = librosa.load('/home/ubuntu/DA/hip-hop/'+ hiphop_file_list[i])\n",
    "    y = split_wav(y, sr, 60, 120)\n",
    "    harm, perc = librosa.effects.hpss(y)\n",
    "    mean_h.append(np.mean(harm))\n",
    "    var_h.append(np.var(harm))\n",
    "    mean_p.append(np.mean(perc))\n",
    "    var_p.append(np.var(perc))\n",
    "\n",
    "hiphop_df['mean_harm2'] = pd.DataFrame(mean_h)\n",
    "hiphop_df['var_harm2'] = pd.DataFrame(var_h)\n",
    "hiphop_df['mean_perc2'] = pd.DataFrame(mean_p)\n",
    "hiphop_df['var_perc2'] = pd.DataFrame(var_p)\n",
    "    "
   ]
  },
  {
   "cell_type": "code",
   "execution_count": 15,
   "id": "3528b351",
   "metadata": {},
   "outputs": [
    {
     "name": "stderr",
     "output_type": "stream",
     "text": [
      "/usr/local/lib/python3.6/dist-packages/librosa/core/audio.py:162: UserWarning: PySoundFile failed. Trying audioread instead.\n",
      "  warnings.warn(\"PySoundFile failed. Trying audioread instead.\")\n",
      "/usr/local/lib/python3.6/dist-packages/librosa/core/audio.py:162: UserWarning: PySoundFile failed. Trying audioread instead.\n",
      "  warnings.warn(\"PySoundFile failed. Trying audioread instead.\")\n",
      "/usr/local/lib/python3.6/dist-packages/librosa/core/audio.py:162: UserWarning: PySoundFile failed. Trying audioread instead.\n",
      "  warnings.warn(\"PySoundFile failed. Trying audioread instead.\")\n",
      "/usr/local/lib/python3.6/dist-packages/librosa/core/audio.py:162: UserWarning: PySoundFile failed. Trying audioread instead.\n",
      "  warnings.warn(\"PySoundFile failed. Trying audioread instead.\")\n",
      "/usr/local/lib/python3.6/dist-packages/librosa/core/audio.py:162: UserWarning: PySoundFile failed. Trying audioread instead.\n",
      "  warnings.warn(\"PySoundFile failed. Trying audioread instead.\")\n",
      "/usr/local/lib/python3.6/dist-packages/librosa/core/audio.py:162: UserWarning: PySoundFile failed. Trying audioread instead.\n",
      "  warnings.warn(\"PySoundFile failed. Trying audioread instead.\")\n"
     ]
    }
   ],
   "source": [
    "#Spectral Centroid: 주파수의 가중편균을 계산하여 소리의 무게중심이 어딘지를 알려주는 지표\n",
    "import sklearn\n",
    "def normalize(x, axis = 0):\n",
    "    return sklearn.preprocessing.minmax_scale(x, axis = axis)\n",
    "\n",
    "spectral_centroid_mean = []\n",
    "spectral_centroid_var = []\n",
    "\n",
    "for i in range(len(hiphop_file_list)):\n",
    "    y, sr = librosa.load('/home/ubuntu/DA/hip-hop/'+ hiphop_file_list[i])\n",
    "    y = split_wav(y, sr, 0, 60)\n",
    "    sc = librosa.feature.spectral_centroid(y, sr)[0]\n",
    "    spectral_centroid_mean.append(np.mean(normalize(sc)))\n",
    "    spectral_centroid_var.append(np.var(normalize(sc)))\n",
    "\n",
    "hiphop_df['mean_sc1'] = pd.DataFrame(spectral_centroid_mean)\n",
    "hiphop_df['var_sc1'] = pd.DataFrame(spectral_centroid_var)  "
   ]
  },
  {
   "cell_type": "code",
   "execution_count": 16,
   "id": "75b454b7",
   "metadata": {},
   "outputs": [
    {
     "name": "stderr",
     "output_type": "stream",
     "text": [
      "/usr/local/lib/python3.6/dist-packages/librosa/core/audio.py:162: UserWarning: PySoundFile failed. Trying audioread instead.\n",
      "  warnings.warn(\"PySoundFile failed. Trying audioread instead.\")\n",
      "/usr/local/lib/python3.6/dist-packages/librosa/core/audio.py:162: UserWarning: PySoundFile failed. Trying audioread instead.\n",
      "  warnings.warn(\"PySoundFile failed. Trying audioread instead.\")\n",
      "/usr/local/lib/python3.6/dist-packages/librosa/core/audio.py:162: UserWarning: PySoundFile failed. Trying audioread instead.\n",
      "  warnings.warn(\"PySoundFile failed. Trying audioread instead.\")\n",
      "/usr/local/lib/python3.6/dist-packages/librosa/core/audio.py:162: UserWarning: PySoundFile failed. Trying audioread instead.\n",
      "  warnings.warn(\"PySoundFile failed. Trying audioread instead.\")\n",
      "/usr/local/lib/python3.6/dist-packages/librosa/core/audio.py:162: UserWarning: PySoundFile failed. Trying audioread instead.\n",
      "  warnings.warn(\"PySoundFile failed. Trying audioread instead.\")\n",
      "/usr/local/lib/python3.6/dist-packages/librosa/core/audio.py:162: UserWarning: PySoundFile failed. Trying audioread instead.\n",
      "  warnings.warn(\"PySoundFile failed. Trying audioread instead.\")\n"
     ]
    }
   ],
   "source": [
    "#Spectral Centroid: 주파수의 가중편균을 계산하여 소리의 무게중심이 어딘지를 알려주는 지표\n",
    "import sklearn\n",
    "def normalize(x, axis = 0):\n",
    "    return sklearn.preprocessing.minmax_scale(x, axis = axis)\n",
    "\n",
    "spectral_centroid_mean = []\n",
    "spectral_centroid_var = []\n",
    "\n",
    "for i in range(len(hiphop_file_list)):\n",
    "    y, sr = librosa.load('/home/ubuntu/DA/hip-hop/'+ hiphop_file_list[i])\n",
    "    y = split_wav(y, sr, 60, 120)\n",
    "    sc = librosa.feature.spectral_centroid(y, sr)[0]\n",
    "    spectral_centroid_mean.append(np.mean(normalize(sc)))\n",
    "    spectral_centroid_var.append(np.var(normalize(sc)))\n",
    "\n",
    "hiphop_df['mean_sc2'] = pd.DataFrame(spectral_centroid_mean)\n",
    "hiphop_df['var_sc2'] = pd.DataFrame(spectral_centroid_var)  "
   ]
  },
  {
   "cell_type": "code",
   "execution_count": 7,
   "id": "6752e12d",
   "metadata": {},
   "outputs": [
    {
     "name": "stderr",
     "output_type": "stream",
     "text": [
      "/usr/local/lib/python3.6/dist-packages/librosa/core/audio.py:162: UserWarning: PySoundFile failed. Trying audioread instead.\n",
      "  warnings.warn(\"PySoundFile failed. Trying audioread instead.\")\n",
      "/usr/local/lib/python3.6/dist-packages/librosa/core/audio.py:162: UserWarning: PySoundFile failed. Trying audioread instead.\n",
      "  warnings.warn(\"PySoundFile failed. Trying audioread instead.\")\n",
      "/usr/local/lib/python3.6/dist-packages/librosa/core/audio.py:162: UserWarning: PySoundFile failed. Trying audioread instead.\n",
      "  warnings.warn(\"PySoundFile failed. Trying audioread instead.\")\n",
      "/usr/local/lib/python3.6/dist-packages/librosa/core/audio.py:162: UserWarning: PySoundFile failed. Trying audioread instead.\n",
      "  warnings.warn(\"PySoundFile failed. Trying audioread instead.\")\n",
      "/usr/local/lib/python3.6/dist-packages/librosa/core/audio.py:162: UserWarning: PySoundFile failed. Trying audioread instead.\n",
      "  warnings.warn(\"PySoundFile failed. Trying audioread instead.\")\n",
      "/usr/local/lib/python3.6/dist-packages/librosa/core/audio.py:162: UserWarning: PySoundFile failed. Trying audioread instead.\n",
      "  warnings.warn(\"PySoundFile failed. Trying audioread instead.\")\n"
     ]
    }
   ],
   "source": [
    "#Chroma Frequencies\n",
    "#인간 청각이 옥타브 차이가 나는 주파수를 가진 두 음을 유사음으로 인지한다는 음악이론에 기반한다.\n",
    "#모든 스펙트럼을 12개의 Bin(각기 다른 반음)으로 표현\n",
    "\n",
    "mean_c = []\n",
    "var_c = []\n",
    "\n",
    "for i in range(len(hiphop_file_list)):\n",
    "    y, sr = librosa.load('/home/ubuntu/DA/hip-hop/'+ hiphop_file_list[i])\n",
    "    y = split_wav(y, sr, 0, 60)\n",
    "    c = librosa.feature.chroma_stft(y, sr, hop_length = 512)\n",
    "    mean_c.append(np.mean(c))\n",
    "    var_c.append(np.var(c))\n",
    "    \n",
    "hiphop_df['mean_chroma1'] = pd.DataFrame(mean_c)\n",
    "hiphop_df['var_chroma1'] = pd.DataFrame(var_c)\n"
   ]
  },
  {
   "cell_type": "code",
   "execution_count": 8,
   "id": "fc70b436",
   "metadata": {},
   "outputs": [
    {
     "name": "stderr",
     "output_type": "stream",
     "text": [
      "/usr/local/lib/python3.6/dist-packages/librosa/core/audio.py:162: UserWarning: PySoundFile failed. Trying audioread instead.\n",
      "  warnings.warn(\"PySoundFile failed. Trying audioread instead.\")\n",
      "/usr/local/lib/python3.6/dist-packages/librosa/core/audio.py:162: UserWarning: PySoundFile failed. Trying audioread instead.\n",
      "  warnings.warn(\"PySoundFile failed. Trying audioread instead.\")\n",
      "/usr/local/lib/python3.6/dist-packages/librosa/core/audio.py:162: UserWarning: PySoundFile failed. Trying audioread instead.\n",
      "  warnings.warn(\"PySoundFile failed. Trying audioread instead.\")\n",
      "/usr/local/lib/python3.6/dist-packages/librosa/core/audio.py:162: UserWarning: PySoundFile failed. Trying audioread instead.\n",
      "  warnings.warn(\"PySoundFile failed. Trying audioread instead.\")\n",
      "/usr/local/lib/python3.6/dist-packages/librosa/core/audio.py:162: UserWarning: PySoundFile failed. Trying audioread instead.\n",
      "  warnings.warn(\"PySoundFile failed. Trying audioread instead.\")\n",
      "/usr/local/lib/python3.6/dist-packages/librosa/core/audio.py:162: UserWarning: PySoundFile failed. Trying audioread instead.\n",
      "  warnings.warn(\"PySoundFile failed. Trying audioread instead.\")\n"
     ]
    }
   ],
   "source": [
    "#Chroma Frequencies\n",
    "#인간 청각이 옥타브 차이가 나는 주파수를 가진 두 음을 유사음으로 인지한다는 음악이론에 기반한다.\n",
    "#모든 스펙트럼을 12개의 Bin(각기 다른 반음)으로 표현\n",
    "\n",
    "mean_c = []\n",
    "var_c = []\n",
    "\n",
    "for i in range(len(hiphop_file_list)):\n",
    "    y, sr = librosa.load('/home/ubuntu/DA/hip-hop/'+ hiphop_file_list[i])\n",
    "    y = split_wav(y, sr, 60, 120)\n",
    "    c = librosa.feature.chroma_stft(y, sr, hop_length = 512)\n",
    "    mean_c.append(np.mean(c))\n",
    "    var_c.append(np.var(c))\n",
    "    \n",
    "hiphop_df['mean_chroma2'] = pd.DataFrame(mean_c)\n",
    "hiphop_df['var_chroma2'] = pd.DataFrame(var_c)\n"
   ]
  },
  {
   "cell_type": "code",
   "execution_count": 9,
   "id": "9d35d9e5",
   "metadata": {},
   "outputs": [
    {
     "name": "stderr",
     "output_type": "stream",
     "text": [
      "/usr/local/lib/python3.6/dist-packages/librosa/core/audio.py:162: UserWarning: PySoundFile failed. Trying audioread instead.\n",
      "  warnings.warn(\"PySoundFile failed. Trying audioread instead.\")\n"
     ]
    },
    {
     "ename": "NameError",
     "evalue": "name 'normalize' is not defined",
     "output_type": "error",
     "traceback": [
      "\u001b[0;31m---------------------------------------------------------------------------\u001b[0m",
      "\u001b[0;31mNameError\u001b[0m                                 Traceback (most recent call last)",
      "\u001b[0;32m<ipython-input-9-c684fdf0f2dc>\u001b[0m in \u001b[0;36m<module>\u001b[0;34m\u001b[0m\n\u001b[1;32m     10\u001b[0m     \u001b[0my\u001b[0m \u001b[0;34m=\u001b[0m \u001b[0msplit_wav\u001b[0m\u001b[0;34m(\u001b[0m\u001b[0my\u001b[0m\u001b[0;34m,\u001b[0m \u001b[0msr\u001b[0m\u001b[0;34m,\u001b[0m \u001b[0;36m0\u001b[0m\u001b[0;34m,\u001b[0m \u001b[0;36m60\u001b[0m\u001b[0;34m)\u001b[0m\u001b[0;34m\u001b[0m\u001b[0;34m\u001b[0m\u001b[0m\n\u001b[1;32m     11\u001b[0m     \u001b[0mmfccs\u001b[0m \u001b[0;34m=\u001b[0m \u001b[0mlibrosa\u001b[0m\u001b[0;34m.\u001b[0m\u001b[0mfeature\u001b[0m\u001b[0;34m.\u001b[0m\u001b[0mmfcc\u001b[0m\u001b[0;34m(\u001b[0m\u001b[0my\u001b[0m\u001b[0;34m,\u001b[0m \u001b[0msr\u001b[0m\u001b[0;34m)\u001b[0m\u001b[0;34m\u001b[0m\u001b[0;34m\u001b[0m\u001b[0m\n\u001b[0;32m---> 12\u001b[0;31m     \u001b[0mmfccs\u001b[0m \u001b[0;34m=\u001b[0m \u001b[0mnormalize\u001b[0m\u001b[0;34m(\u001b[0m\u001b[0mmfccs\u001b[0m\u001b[0;34m,\u001b[0m \u001b[0maxis\u001b[0m \u001b[0;34m=\u001b[0m \u001b[0;36m1\u001b[0m\u001b[0;34m)\u001b[0m\u001b[0;34m\u001b[0m\u001b[0;34m\u001b[0m\u001b[0m\n\u001b[0m\u001b[1;32m     13\u001b[0m     \u001b[0mmean_m\u001b[0m\u001b[0;34m.\u001b[0m\u001b[0mappend\u001b[0m\u001b[0;34m(\u001b[0m\u001b[0mmfccs\u001b[0m\u001b[0;34m.\u001b[0m\u001b[0mmean\u001b[0m\u001b[0;34m(\u001b[0m\u001b[0;34m)\u001b[0m\u001b[0;34m)\u001b[0m\u001b[0;34m\u001b[0m\u001b[0;34m\u001b[0m\u001b[0m\n\u001b[1;32m     14\u001b[0m     \u001b[0mvar_m\u001b[0m\u001b[0;34m.\u001b[0m\u001b[0mappend\u001b[0m\u001b[0;34m(\u001b[0m\u001b[0mmfccs\u001b[0m\u001b[0;34m.\u001b[0m\u001b[0mvar\u001b[0m\u001b[0;34m(\u001b[0m\u001b[0;34m)\u001b[0m\u001b[0;34m)\u001b[0m\u001b[0;34m\u001b[0m\u001b[0;34m\u001b[0m\u001b[0m\n",
      "\u001b[0;31mNameError\u001b[0m: name 'normalize' is not defined"
     ]
    }
   ],
   "source": [
    "#MFCCs\n",
    "#특징들의 작은 집합으로 스펙트럼 포곡선의 전체적인 모양을 축약해서 보여준다.\n",
    "#사람의 청각 구조를 반영하여 음성 정보 추출\n",
    "\n",
    "mean_m = []\n",
    "var_m = []\n",
    "\n",
    "for i in range(len(hiphop_file_list)):\n",
    "    y, sr = librosa.load('/home/ubuntu/DA/hip-hop/'+ hiphop_file_list[i])\n",
    "    y = split_wav(y, sr, 0, 60)\n",
    "    mfccs = librosa.feature.mfcc(y, sr)\n",
    "    mfccs = normalize(mfccs, axis = 1)\n",
    "    mean_m.append(mfccs.mean())\n",
    "    var_m.append(mfccs.var())\n",
    "    \n",
    "hiphop_df['mean_mfccs1'] = pd.DataFrame(mean_m)\n",
    "hiphop_df['var_mfccs1'] = pd.DataFrame(var_m)"
   ]
  },
  {
   "cell_type": "code",
   "execution_count": null,
   "id": "83a9e07e",
   "metadata": {},
   "outputs": [],
   "source": [
    "#MFCCs\n",
    "#특징들의 작은 집합으로 스펙트럼 포곡선의 전체적인 모양을 축약해서 보여준다.\n",
    "#사람의 청각 구조를 반영하여 음성 정보 추출\n",
    "\n",
    "mean_m = []\n",
    "var_m = []\n",
    "\n",
    "for i in range(len(hiphop_file_list)):\n",
    "    y, sr = librosa.load('/home/ubuntu/DA/hip-hop/'+ hiphop_file_list[i])\n",
    "    y = split_wav(y, sr, 60, 120)\n",
    "    mfccs = librosa.feature.mfcc(y, sr)\n",
    "    mfccs = normalize(mfccs, axis = 1)\n",
    "    mean_m.append(mfccs.mean())\n",
    "    var_m.append(mfccs.var())\n",
    "    \n",
    "hiphop_df['mean_mfccs2'] = pd.DataFrame(mean_m)\n",
    "hiphop_df['var_mfccs2'] = pd.DataFrame(var_m)"
   ]
  },
  {
   "cell_type": "code",
   "execution_count": null,
   "id": "6a6564b3",
   "metadata": {},
   "outputs": [],
   "source": [
    "#zero crossing rate\n",
    "zero_crossings_mean = []\n",
    "zero_crossings_var = []\n",
    "\n",
    "for i in range(len(hiphop_file_list)):\n",
    "    y, sr = librosa.load('/home/ubuntu/DA/hip-hop/'+ hiphop_file_list[i])\n",
    "    y = split_wav(y, sr, 0, 60)\n",
    "    zc = librosa.zero_crossings(y, pad = False)\n",
    "    zero_crossings_mean.append(np.mean(zc))\n",
    "    zero_crossings_var.append(np.var(zc))\n",
    "\n",
    "hiphop_df['zero_crossings_mean1'] = pd.DataFrame(zero_crossings_mean)    \n",
    "hiphop_df['zero_crossings_var1'] = pd.DataFrame(zero_crossings_var)  "
   ]
  },
  {
   "cell_type": "code",
   "execution_count": null,
   "id": "99365dc7",
   "metadata": {},
   "outputs": [],
   "source": [
    "#zero crossing rate\n",
    "zero_crossings_mean = []\n",
    "zero_crossings_var = []\n",
    "\n",
    "for i in range(len(hiphop_file_list)):\n",
    "    y, sr = librosa.load('/home/ubuntu/DA/hip-hop/'+ hiphop_file_list[i])\n",
    "    y = split_wav(y, sr, 60, 120)\n",
    "    zc = librosa.zero_crossings(y, pad = False)\n",
    "    zero_crossings_mean.append(np.mean(zc))\n",
    "    zero_crossings_var.append(np.var(zc))\n",
    "\n",
    "hiphop_df['zero_crossings_mean2'] = pd.DataFrame(zero_crossings_mean)    \n",
    "hiphop_df['zero_crossings_var2'] = pd.DataFrame(zero_crossings_var)  "
   ]
  },
  {
   "cell_type": "code",
   "execution_count": null,
   "id": "12dbe7a3",
   "metadata": {},
   "outputs": [],
   "source": [
    "hiphop_df = pd.read_csv('hiphop_df.csv')\n",
    "hiphop_df"
   ]
  },
  {
   "cell_type": "code",
   "execution_count": null,
   "id": "fb341f6d",
   "metadata": {},
   "outputs": [],
   "source": [
    "hiphop_df.to_csv('/home/ubuntu/DA/dataframe/hiphop_df.csv', index = False)"
   ]
  }
 ],
 "metadata": {
  "kernelspec": {
   "display_name": "Python 3",
   "language": "python",
   "name": "python3"
  },
  "language_info": {
   "codemirror_mode": {
    "name": "ipython",
    "version": 3
   },
   "file_extension": ".py",
   "mimetype": "text/x-python",
   "name": "python",
   "nbconvert_exporter": "python",
   "pygments_lexer": "ipython3",
   "version": "3.6.9"
  }
 },
 "nbformat": 4,
 "nbformat_minor": 5
}
