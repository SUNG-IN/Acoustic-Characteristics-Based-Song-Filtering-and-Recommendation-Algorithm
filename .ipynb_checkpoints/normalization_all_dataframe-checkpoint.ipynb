{
 "cells": [
  {
   "cell_type": "code",
   "execution_count": 6,
   "id": "3240c48a",
   "metadata": {},
   "outputs": [],
   "source": [
    "import pandas as pd\n",
    "import numpy as np\n",
    "import os\n",
    "from sklearn import preprocessing\n",
    "import sklearn\n",
    "\n",
    "def normalize(x, axis = 1):\n",
    "    return sklearn.preprocessing.minmax_scale(x, axis = axis)"
   ]
  },
  {
   "cell_type": "code",
   "execution_count": 2,
   "id": "0fba9d78",
   "metadata": {},
   "outputs": [
    {
     "data": {
      "text/plain": [
       "['hiphop_df.csv',\n",
       " 'kpop_df_semi.csv',\n",
       " '.ipynb_checkpoints',\n",
       " 'kpop_df.csv',\n",
       " 'total_df.csv',\n",
       " 'pop_df_semi.csv',\n",
       " 'pop_df.csv',\n",
       " 'balad_df.csv',\n",
       " 'RB_df.csv',\n",
       " 'hiphop_df_semi.csv',\n",
       " 'RB_df_semi.csv']"
      ]
     },
     "execution_count": 2,
     "metadata": {},
     "output_type": "execute_result"
    }
   ],
   "source": [
    "path = '/home/ubuntu/DA/dataframe'\n",
    "\n",
    "file_list = os.listdir(path)\n",
    "file_list"
   ]
  },
  {
   "cell_type": "code",
   "execution_count": 3,
   "id": "2d0d09d1",
   "metadata": {},
   "outputs": [],
   "source": [
    "os.chdir(path)\n",
    "hiphop_df = pd.read_csv('hiphop_df.csv')\n",
    "balad_df = pd.read_csv('balad_df.csv')\n",
    "RB_df = pd.read_csv('RB_df.csv')\n",
    "pop_df = pd.read_csv('pop_df.csv')\n",
    "kpop_df = pd.read_csv('kpop_df.csv')\n",
    "\n",
    "hiphop_df = hiphop_df[hiphop_df.columns.drop(list(hiphop_df.filter(regex='Unnamed')))]\n",
    "balad_df = balad_df[balad_df.columns.drop(list(balad_df.filter(regex='Unnamed')))]\n",
    "RB_df = RB_df[RB_df.columns.drop(list(RB_df.filter(regex='Unnamed')))]\n",
    "pop_df = pop_df[pop_df.columns.drop(list(pop_df.filter(regex='Unnamed')))]\n",
    "kpop_df = kpop_df[kpop_df.columns.drop(list(kpop_df.filter(regex='Unnamed')))]"
   ]
  },
  {
   "cell_type": "code",
   "execution_count": 11,
   "id": "63578446",
   "metadata": {},
   "outputs": [],
   "source": [
    "hiphop_df = pd.concat([hiphop_df.iloc[:,0:4],pd.DataFrame(normalize(hiphop_df.select_dtypes([np.number])), columns = hiphop_df.select_dtypes([np.number]).columns)], axis = 1)\n",
    "hiphop_df.to_csv('hiphop_df.csv')\n",
    "\n",
    "balad_df = pd.concat([balad_df.iloc[:,0:4],pd.DataFrame(normalize(balad_df.select_dtypes([np.number])), columns = balad_df.select_dtypes([np.number]).columns)], axis = 1)\n",
    "balad_df.to_csv('balad_df.csv')\n",
    "\n",
    "RB_df = pd.concat([RB_df.iloc[:,0:4],pd.DataFrame(normalize(RB_df.select_dtypes([np.number])), columns = RB_df.select_dtypes([np.number]).columns)], axis = 1)\n",
    "RB_df.to_csv('RB_df.csv')\n",
    "\n",
    "pop_df = pd.concat([pop_df.iloc[:,0:4],pd.DataFrame(normalize(pop_df.select_dtypes([np.number])), columns = pop_df.select_dtypes([np.number]).columns)], axis = 1)\n",
    "pop_df.to_csv('pop_df.csv')\n",
    "\n",
    "kpop_df = pd.concat([kpop_df.iloc[:,0:4],pd.DataFrame(normalize(kpop_df.select_dtypes([np.number])), columns = kpop_df.select_dtypes([np.number]).columns)], axis = 1)\n",
    "kpop_df.to_csv('kpop_df.csv')\n"
   ]
  }
 ],
 "metadata": {
  "kernelspec": {
   "display_name": "Python 3",
   "language": "python",
   "name": "python3"
  },
  "language_info": {
   "codemirror_mode": {
    "name": "ipython",
    "version": 3
   },
   "file_extension": ".py",
   "mimetype": "text/x-python",
   "name": "python",
   "nbconvert_exporter": "python",
   "pygments_lexer": "ipython3",
   "version": "3.6.9"
  }
 },
 "nbformat": 4,
 "nbformat_minor": 5
}
